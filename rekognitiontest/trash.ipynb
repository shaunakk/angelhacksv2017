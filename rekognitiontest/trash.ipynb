{
 "cells": [
  {
   "cell_type": "code",
   "execution_count": 1,
   "metadata": {
    "collapsed": true
   },
   "outputs": [],
   "source": [
    "import boto3\n",
    "import requests\n",
    "import pprint"
   ]
  },
  {
   "cell_type": "code",
   "execution_count": 2,
   "metadata": {
    "collapsed": true
   },
   "outputs": [],
   "source": [
    "client = boto3.client('rekognition')"
   ]
  },
  {
   "cell_type": "code",
   "execution_count": 3,
   "metadata": {
    "collapsed": true
   },
   "outputs": [],
   "source": [
    "with open('litter.jpg', 'rb') as source_image:\n",
    "        source_bytes = source_image.read()"
   ]
  },
  {
   "cell_type": "code",
   "execution_count": 4,
   "metadata": {
    "collapsed": true
   },
   "outputs": [],
   "source": [
    "response = client.detect_labels(\n",
    "                   Image={ 'Bytes': source_bytes },\n",
    "    )"
   ]
  },
  {
   "cell_type": "code",
   "execution_count": 5,
   "metadata": {
    "collapsed": false
   },
   "outputs": [
    {
     "name": "stdout",
     "output_type": "stream",
     "text": [
      "{u'Labels': [{u'Confidence': 97.47950744628906, u'Name': u'Trash'},\n",
      "             {u'Confidence': 61.87919235229492, u'Name': u'Box'},\n",
      "             {u'Confidence': 61.87919235229492, u'Name': u'Cardboard'},\n",
      "             {u'Confidence': 61.87919235229492, u'Name': u'Carton'},\n",
      "             {u'Confidence': 61.1470947265625, u'Name': u'Car'},\n",
      "             {u'Confidence': 61.1470947265625, u'Name': u'Van'},\n",
      "             {u'Confidence': 54.35565185546875, u'Name': u'Road'},\n",
      "             {u'Confidence': 54.35565185546875, u'Name': u'Street'},\n",
      "             {u'Confidence': 54.35565185546875, u'Name': u'Town'},\n",
      "             {u'Confidence': 53.20728302001953, u'Name': u'Ambulance'},\n",
      "             {u'Confidence': 53.20728302001953, u'Name': u'Vehicle'},\n",
      "             {u'Confidence': 51.337974548339844, u'Name': u'City'},\n",
      "             {u'Confidence': 51.337974548339844, u'Name': u'Downtown'},\n",
      "             {u'Confidence': 51.337974548339844, u'Name': u'Urban'},\n",
      "             {u'Confidence': 50.951141357421875, u'Name': u'Intersection'}],\n",
      " u'OrientationCorrection': u'ROTATE_0',\n",
      " 'ResponseMetadata': {'HTTPHeaders': {'connection': 'keep-alive',\n",
      "                                      'content-length': '782',\n",
      "                                      'content-type': 'application/x-amz-json-1.1',\n",
      "                                      'date': 'Sat, 29 Jul 2017 22:08:51 GMT',\n",
      "                                      'x-amzn-requestid': '807939d3-74aa-11e7-a38e-ffaa52065dab'},\n",
      "                      'HTTPStatusCode': 200,\n",
      "                      'RequestId': '807939d3-74aa-11e7-a38e-ffaa52065dab',\n",
      "                      'RetryAttempts': 0}}\n"
     ]
    }
   ],
   "source": [
    "pprint.pprint(response)"
   ]
  },
  {
   "cell_type": "code",
   "execution_count": 6,
   "metadata": {
    "collapsed": false
   },
   "outputs": [
    {
     "name": "stdout",
     "output_type": "stream",
     "text": [
      "{u'Labels': [{u'Confidence': 98.10881805419922, u'Name': u'Automobile'},\n",
      "             {u'Confidence': 98.10881805419922, u'Name': u'Car'},\n",
      "             {u'Confidence': 98.10881805419922, u'Name': u'Vehicle'},\n",
      "             {u'Confidence': 53.81562805175781, u'Name': u'Asphalt'},\n",
      "             {u'Confidence': 53.81562805175781, u'Name': u'Tarmac'},\n",
      "             {u'Confidence': 52.71894836425781, u'Name': u'Beach'},\n",
      "             {u'Confidence': 52.71894836425781, u'Name': u'Coast'},\n",
      "             {u'Confidence': 52.71894836425781, u'Name': u'Outdoors'},\n",
      "             {u'Confidence': 52.71894836425781, u'Name': u'Sea'},\n",
      "             {u'Confidence': 52.71894836425781, u'Name': u'Water'},\n",
      "             {u'Confidence': 52.66631317138672, u'Name': u'Freeway'},\n",
      "             {u'Confidence': 52.66631317138672, u'Name': u'Highway'},\n",
      "             {u'Confidence': 52.66631317138672, u'Name': u'Road'},\n",
      "             {u'Confidence': 51.19955062866211, u'Name': u'Sedan'}],\n",
      " 'ResponseMetadata': {'HTTPHeaders': {'connection': 'keep-alive',\n",
      "                                      'content-length': '696',\n",
      "                                      'content-type': 'application/x-amz-json-1.1',\n",
      "                                      'date': 'Sat, 29 Jul 2017 22:08:55 GMT',\n",
      "                                      'x-amzn-requestid': '81696631-74aa-11e7-be4f-5b7c02bb7db3'},\n",
      "                      'HTTPStatusCode': 200,\n",
      "                      'RequestId': '81696631-74aa-11e7-be4f-5b7c02bb7db3',\n",
      "                      'RetryAttempts': 0}}\n"
     ]
    }
   ],
   "source": [
    "with open('roadkill.jpg', 'rb') as source_image:\n",
    "        source_bytes = source_image.read()\n",
    "        \n",
    "response = client.detect_labels(\n",
    "                   Image={ 'Bytes': source_bytes },\n",
    "    )\n",
    "\n",
    "pprint.pprint(response)"
   ]
  },
  {
   "cell_type": "code",
   "execution_count": 7,
   "metadata": {
    "collapsed": false
   },
   "outputs": [
    {
     "name": "stdout",
     "output_type": "stream",
     "text": [
      "{u'Labels': [{u'Confidence': 99.06253814697266, u'Name': u'Automobile'},\n",
      "             {u'Confidence': 99.06253814697266, u'Name': u'Car'},\n",
      "             {u'Confidence': 99.06253814697266, u'Name': u'Vehicle'},\n",
      "             {u'Confidence': 98.122314453125, u'Name': u'Boat'},\n",
      "             {u'Confidence': 98.122314453125, u'Name': u'Watercraft'},\n",
      "             {u'Confidence': 85.68059539794922, u'Name': u'Rubble'},\n",
      "             {u'Confidence': 56.6002082824707, u'Name': u'Dock'},\n",
      "             {u'Confidence': 56.6002082824707, u'Name': u'Landing'},\n",
      "             {u'Confidence': 56.6002082824707, u'Name': u'Pier'},\n",
      "             {u'Confidence': 52.49039077758789, u'Name': u'Sedan'},\n",
      "             {u'Confidence': 51.70203399658203, u'Name': u'Antique Car'},\n",
      "             {u'Confidence': 51.5477409362793, u'Name': u'Van'},\n",
      "             {u'Confidence': 50.942771911621094, u'Name': u'Suv'}],\n",
      " u'OrientationCorrection': u'ROTATE_0',\n",
      " 'ResponseMetadata': {'HTTPHeaders': {'connection': 'keep-alive',\n",
      "                                      'content-length': '676',\n",
      "                                      'content-type': 'application/x-amz-json-1.1',\n",
      "                                      'date': 'Sat, 29 Jul 2017 22:08:56 GMT',\n",
      "                                      'x-amzn-requestid': '832f31f1-74aa-11e7-8a3f-7f2af45a98bd'},\n",
      "                      'HTTPStatusCode': 200,\n",
      "                      'RequestId': '832f31f1-74aa-11e7-8a3f-7f2af45a98bd',\n",
      "                      'RetryAttempts': 0}}\n"
     ]
    }
   ],
   "source": [
    "with open('trashed.jpg', 'rb') as source_image:\n",
    "        source_bytes = source_image.read()\n",
    "        \n",
    "response = client.detect_labels(\n",
    "                   Image={ 'Bytes': source_bytes },\n",
    "    )\n",
    "\n",
    "pprint.pprint(response)"
   ]
  },
  {
   "cell_type": "code",
   "execution_count": 8,
   "metadata": {
    "collapsed": false
   },
   "outputs": [
    {
     "name": "stdout",
     "output_type": "stream",
     "text": [
      "{u'Labels': [{u'Confidence': 90.53666687011719, u'Name': u'Tomb'},\n",
      "             {u'Confidence': 61.49536895751953, u'Name': u'Automobile'},\n",
      "             {u'Confidence': 61.49536895751953, u'Name': u'Car'},\n",
      "             {u'Confidence': 61.49536895751953, u'Name': u'Vehicle'},\n",
      "             {u'Confidence': 60.266963958740234, u'Name': u'Flagstone'},\n",
      "             {u'Confidence': 54.895774841308594, u'Name': u'Asphalt'},\n",
      "             {u'Confidence': 54.895774841308594, u'Name': u'Tarmac'},\n",
      "             {u'Confidence': 53.81868362426758, u'Name': u'Alley'},\n",
      "             {u'Confidence': 53.81868362426758, u'Name': u'Alleyway'},\n",
      "             {u'Confidence': 53.81868362426758, u'Name': u'Road'},\n",
      "             {u'Confidence': 53.81868362426758, u'Name': u'Street'},\n",
      "             {u'Confidence': 53.81868362426758, u'Name': u'Town'},\n",
      "             {u'Confidence': 51.65685272216797, u'Name': u'Backyard'},\n",
      "             {u'Confidence': 51.65685272216797, u'Name': u'Yard'},\n",
      "             {u'Confidence': 50.66255187988281, u'Name': u'Suv'},\n",
      "             {u'Confidence': 50.624900817871094, u'Name': u'Crypt'}],\n",
      " 'ResponseMetadata': {'HTTPHeaders': {'connection': 'keep-alive',\n",
      "                                      'content-length': '797',\n",
      "                                      'content-type': 'application/x-amz-json-1.1',\n",
      "                                      'date': 'Sat, 29 Jul 2017 22:08:57 GMT',\n",
      "                                      'x-amzn-requestid': '83cbe7cc-74aa-11e7-a27d-514401911545'},\n",
      "                      'HTTPStatusCode': 200,\n",
      "                      'RequestId': '83cbe7cc-74aa-11e7-a27d-514401911545',\n",
      "                      'RetryAttempts': 0}}\n"
     ]
    }
   ],
   "source": [
    "with open('newyears.jpg', 'rb') as source_image:\n",
    "        source_bytes = source_image.read()\n",
    "        \n",
    "response = client.detect_labels(\n",
    "                   Image={ 'Bytes': source_bytes },\n",
    "    )\n",
    "\n",
    "pprint.pprint(response)"
   ]
  },
  {
   "cell_type": "code",
   "execution_count": 9,
   "metadata": {
    "collapsed": false
   },
   "outputs": [
    {
     "name": "stdout",
     "output_type": "stream",
     "text": [
      "{u'Labels': [{u'Confidence': 80.12691497802734, u'Name': u'Kite'},\n",
      "             {u'Confidence': 61.61433029174805, u'Name': u'Trash'},\n",
      "             {u'Confidence': 52.086849212646484, u'Name': u'Hat'},\n",
      "             {u'Confidence': 52.00727462768555, u'Name': u'Cap'},\n",
      "             {u'Confidence': 51.153778076171875, u'Name': u'Child'},\n",
      "             {u'Confidence': 51.153778076171875, u'Name': u'Kid'},\n",
      "             {u'Confidence': 50.645111083984375, u'Name': u'Furniture'}],\n",
      " u'OrientationCorrection': u'ROTATE_0',\n",
      " 'ResponseMetadata': {'HTTPHeaders': {'connection': 'keep-alive',\n",
      "                                      'content-length': '384',\n",
      "                                      'content-type': 'application/x-amz-json-1.1',\n",
      "                                      'date': 'Sat, 29 Jul 2017 22:08:59 GMT',\n",
      "                                      'x-amzn-requestid': '8567209d-74aa-11e7-8a3f-7f2af45a98bd'},\n",
      "                      'HTTPStatusCode': 200,\n",
      "                      'RequestId': '8567209d-74aa-11e7-8a3f-7f2af45a98bd',\n",
      "                      'RetryAttempts': 0}}\n"
     ]
    }
   ],
   "source": [
    "with open('bags.jpg', 'rb') as source_image:\n",
    "        source_bytes = source_image.read()\n",
    "        \n",
    "response = client.detect_labels(\n",
    "                   Image={ 'Bytes': source_bytes },\n",
    "    )\n",
    "\n",
    "pprint.pprint(response)"
   ]
  },
  {
   "cell_type": "code",
   "execution_count": 11,
   "metadata": {
    "collapsed": false
   },
   "outputs": [],
   "source": [
    "import requests\n",
    "import boto3\n",
    "import pprint\n",
    "\n",
    "rek = boto3.client('rekognition')\n",
    "\n",
    "resp = requests.get('http://stash.compciv.org/2017/obama.jpg')\n",
    "imgbytes = resp.content\n",
    "\n",
    "rekresp = rek.detect_labels(Image={'Bytes': imgbytes})"
   ]
  },
  {
   "cell_type": "code",
   "execution_count": 12,
   "metadata": {
    "collapsed": false
   },
   "outputs": [
    {
     "name": "stdout",
     "output_type": "stream",
     "text": [
      "{u'Labels': [{u'Confidence': 99.25064086914062, u'Name': u'People'},\n",
      "             {u'Confidence': 99.25064086914062, u'Name': u'Person'},\n",
      "             {u'Confidence': 99.24285125732422, u'Name': u'Human'},\n",
      "             {u'Confidence': 64.15523529052734, u'Name': u'Portrait'},\n",
      "             {u'Confidence': 64.15523529052734, u'Name': u'Selfie'},\n",
      "             {u'Confidence': 57.38563537597656, u'Name': u'Clothing'},\n",
      "             {u'Confidence': 57.38563537597656, u'Name': u'Overcoat'},\n",
      "             {u'Confidence': 57.38563537597656, u'Name': u'Suit'},\n",
      "             {u'Confidence': 54.11437225341797, u'Name': u'Face'},\n",
      "             {u'Confidence': 50.58339309692383, u'Name': u'Female'}],\n",
      " u'OrientationCorrection': u'ROTATE_0',\n",
      " 'ResponseMetadata': {'HTTPHeaders': {'connection': 'keep-alive',\n",
      "                                      'content-length': '538',\n",
      "                                      'content-type': 'application/x-amz-json-1.1',\n",
      "                                      'date': 'Sat, 29 Jul 2017 22:58:24 GMT',\n",
      "                                      'x-amzn-requestid': '6cbcdf12-74b1-11e7-813c-b1bfd0ebf4bf'},\n",
      "                      'HTTPStatusCode': 200,\n",
      "                      'RequestId': '6cbcdf12-74b1-11e7-813c-b1bfd0ebf4bf',\n",
      "                      'RetryAttempts': 0}}\n"
     ]
    }
   ],
   "source": [
    "pprint.pprint(rekresp)"
   ]
  },
  {
   "cell_type": "code",
   "execution_count": 14,
   "metadata": {
    "collapsed": false
   },
   "outputs": [
    {
     "name": "stdout",
     "output_type": "stream",
     "text": [
      "{u'Labels': [{u'Confidence': 99.06253814697266, u'Name': u'Automobile'},\n",
      "             {u'Confidence': 99.06253814697266, u'Name': u'Car'},\n",
      "             {u'Confidence': 99.06253814697266, u'Name': u'Vehicle'},\n",
      "             {u'Confidence': 98.122314453125, u'Name': u'Boat'},\n",
      "             {u'Confidence': 98.122314453125, u'Name': u'Watercraft'},\n",
      "             {u'Confidence': 85.68059539794922, u'Name': u'Rubble'},\n",
      "             {u'Confidence': 56.6002082824707, u'Name': u'Dock'},\n",
      "             {u'Confidence': 56.6002082824707, u'Name': u'Landing'},\n",
      "             {u'Confidence': 56.6002082824707, u'Name': u'Pier'},\n",
      "             {u'Confidence': 52.49039077758789, u'Name': u'Sedan'},\n",
      "             {u'Confidence': 51.70203399658203, u'Name': u'Antique Car'},\n",
      "             {u'Confidence': 51.5477409362793, u'Name': u'Van'},\n",
      "             {u'Confidence': 50.942771911621094, u'Name': u'Suv'}],\n",
      " u'OrientationCorrection': u'ROTATE_0',\n",
      " 'ResponseMetadata': {'HTTPHeaders': {'connection': 'keep-alive',\n",
      "                                      'content-length': '676',\n",
      "                                      'content-type': 'application/x-amz-json-1.1',\n",
      "                                      'date': 'Sat, 29 Jul 2017 23:00:36 GMT',\n",
      "                                      'x-amzn-requestid': 'bbdf3435-74b1-11e7-a112-a56cb7720bae'},\n",
      "                      'HTTPStatusCode': 200,\n",
      "                      'RequestId': 'bbdf3435-74b1-11e7-a112-a56cb7720bae',\n",
      "                      'RetryAttempts': 0}}\n"
     ]
    }
   ],
   "source": [
    "resp = requests.get('http://www.asergeev.com/pictures/archives/2006/489/jpeg/13.jpg')\n",
    "imgbytes = resp.content\n",
    "\n",
    "rekresp = rek.detect_labels(Image={'Bytes': imgbytes})\n",
    "\n",
    "pprint.pprint(rekresp)"
   ]
  },
  {
   "cell_type": "code",
   "execution_count": 19,
   "metadata": {
    "collapsed": false
   },
   "outputs": [],
   "source": [
    "def check(rekresp):\n",
    "    for e in rekresp['Labels']:\n",
    "        if e['Name'] == 'Rubble' or e['Name'] == 'Trash':\n",
    "            return e['Confidence']"
   ]
  },
  {
   "cell_type": "code",
   "execution_count": 20,
   "metadata": {
    "collapsed": false
   },
   "outputs": [
    {
     "data": {
      "text/plain": [
       "98.6423110961914"
      ]
     },
     "execution_count": 20,
     "metadata": {},
     "output_type": "execute_result"
    }
   ],
   "source": [
    "check(rekresp)"
   ]
  },
  {
   "cell_type": "code",
   "execution_count": 21,
   "metadata": {
    "collapsed": false
   },
   "outputs": [
    {
     "name": "stdout",
     "output_type": "stream",
     "text": [
      "{u'Labels': [{u'Confidence': 98.6423110961914, u'Name': u'Trash'},\n",
      "             {u'Confidence': 50.890262603759766, u'Name': u'Adorable'},\n",
      "             {u'Confidence': 50.70448684692383, u'Name': u'Dock'},\n",
      "             {u'Confidence': 50.70448684692383, u'Name': u'Landing'},\n",
      "             {u'Confidence': 50.70448684692383, u'Name': u'Pier'}],\n",
      " 'ResponseMetadata': {'HTTPHeaders': {'connection': 'keep-alive',\n",
      "                                      'content-length': '255',\n",
      "                                      'content-type': 'application/x-amz-json-1.1',\n",
      "                                      'date': 'Sat, 29 Jul 2017 23:32:55 GMT',\n",
      "                                      'x-amzn-requestid': '3f052152-74b6-11e7-a27d-514401911545'},\n",
      "                      'HTTPStatusCode': 200,\n",
      "                      'RequestId': '3f052152-74b6-11e7-a27d-514401911545',\n",
      "                      'RetryAttempts': 0}}\n"
     ]
    },
    {
     "data": {
      "text/plain": [
       "98.6423110961914"
      ]
     },
     "execution_count": 21,
     "metadata": {},
     "output_type": "execute_result"
    }
   ],
   "source": [
    "resp = requests.get('http://www.passyunkpost.com/wp-content/uploads/2014/03/Litter-12th-and-McKean.jpg')\n",
    "imgbytes = resp.content\n",
    "\n",
    "rekresp = rek.detect_labels(Image={'Bytes': imgbytes})\n",
    "\n",
    "pprint.pprint(rekresp)\n",
    "\n",
    "check(rekresp)"
   ]
  },
  {
   "cell_type": "code",
   "execution_count": null,
   "metadata": {
    "collapsed": true
   },
   "outputs": [],
   "source": []
  }
 ],
 "metadata": {
  "anaconda-cloud": {},
  "kernelspec": {
   "display_name": "Python [conda env:dsi]",
   "language": "python",
   "name": "conda-env-dsi-py"
  },
  "language_info": {
   "codemirror_mode": {
    "name": "ipython",
    "version": 2
   },
   "file_extension": ".py",
   "mimetype": "text/x-python",
   "name": "python",
   "nbconvert_exporter": "python",
   "pygments_lexer": "ipython2",
   "version": "2.7.13"
  }
 },
 "nbformat": 4,
 "nbformat_minor": 1
}
