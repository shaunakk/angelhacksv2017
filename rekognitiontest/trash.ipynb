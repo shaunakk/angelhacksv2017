{
 "cells": [
  {
   "cell_type": "code",
   "execution_count": 1,
   "metadata": {
    "collapsed": true
   },
   "outputs": [],
   "source": [
    "import boto3\n",
    "import pprint"
   ]
  },
  {
   "cell_type": "code",
   "execution_count": 2,
   "metadata": {
    "collapsed": true
   },
   "outputs": [],
   "source": [
    "client = boto3.client('rekognition')"
   ]
  },
  {
   "cell_type": "code",
   "execution_count": 3,
   "metadata": {
    "collapsed": true
   },
   "outputs": [],
   "source": [
    "with open('litter.jpg', 'rb') as source_image:\n",
    "        source_bytes = source_image.read()"
   ]
  },
  {
   "cell_type": "code",
   "execution_count": 4,
   "metadata": {
    "collapsed": true
   },
   "outputs": [],
   "source": [
    "response = client.detect_labels(\n",
    "                   Image={ 'Bytes': source_bytes },\n",
    "    )"
   ]
  },
  {
   "cell_type": "code",
   "execution_count": 5,
   "metadata": {
    "collapsed": false
   },
   "outputs": [
    {
     "name": "stdout",
     "output_type": "stream",
     "text": [
      "{u'Labels': [{u'Confidence': 97.47950744628906, u'Name': u'Trash'},\n",
      "             {u'Confidence': 61.87919235229492, u'Name': u'Box'},\n",
      "             {u'Confidence': 61.87919235229492, u'Name': u'Cardboard'},\n",
      "             {u'Confidence': 61.87919235229492, u'Name': u'Carton'},\n",
      "             {u'Confidence': 61.1470947265625, u'Name': u'Car'},\n",
      "             {u'Confidence': 61.1470947265625, u'Name': u'Van'},\n",
      "             {u'Confidence': 54.35565185546875, u'Name': u'Road'},\n",
      "             {u'Confidence': 54.35565185546875, u'Name': u'Street'},\n",
      "             {u'Confidence': 54.35565185546875, u'Name': u'Town'},\n",
      "             {u'Confidence': 53.20728302001953, u'Name': u'Ambulance'},\n",
      "             {u'Confidence': 53.20728302001953, u'Name': u'Vehicle'},\n",
      "             {u'Confidence': 51.337974548339844, u'Name': u'City'},\n",
      "             {u'Confidence': 51.337974548339844, u'Name': u'Downtown'},\n",
      "             {u'Confidence': 51.337974548339844, u'Name': u'Urban'},\n",
      "             {u'Confidence': 50.951141357421875, u'Name': u'Intersection'}],\n",
      " u'OrientationCorrection': u'ROTATE_0',\n",
      " 'ResponseMetadata': {'HTTPHeaders': {'connection': 'keep-alive',\n",
      "                                      'content-length': '782',\n",
      "                                      'content-type': 'application/x-amz-json-1.1',\n",
      "                                      'date': 'Sat, 29 Jul 2017 20:34:25 GMT',\n",
      "                                      'x-amzn-requestid': '4f60f135-749d-11e7-bdef-13081fa3a644'},\n",
      "                      'HTTPStatusCode': 200,\n",
      "                      'RequestId': '4f60f135-749d-11e7-bdef-13081fa3a644',\n",
      "                      'RetryAttempts': 0}}\n"
     ]
    }
   ],
   "source": [
    "pprint.pprint(response)"
   ]
  },
  {
   "cell_type": "code",
   "execution_count": 8,
   "metadata": {
    "collapsed": false
   },
   "outputs": [
    {
     "name": "stdout",
     "output_type": "stream",
     "text": [
      "{u'Labels': [{u'Confidence': 98.10884094238281, u'Name': u'Automobile'},\n",
      "             {u'Confidence': 98.10884094238281, u'Name': u'Car'},\n",
      "             {u'Confidence': 98.10884094238281, u'Name': u'Vehicle'},\n",
      "             {u'Confidence': 53.81563186645508, u'Name': u'Asphalt'},\n",
      "             {u'Confidence': 53.81563186645508, u'Name': u'Tarmac'},\n",
      "             {u'Confidence': 52.71894836425781, u'Name': u'Beach'},\n",
      "             {u'Confidence': 52.71894836425781, u'Name': u'Coast'},\n",
      "             {u'Confidence': 52.71894836425781, u'Name': u'Outdoors'},\n",
      "             {u'Confidence': 52.71894836425781, u'Name': u'Sea'},\n",
      "             {u'Confidence': 52.71894836425781, u'Name': u'Water'},\n",
      "             {u'Confidence': 52.66632843017578, u'Name': u'Freeway'},\n",
      "             {u'Confidence': 52.66632843017578, u'Name': u'Highway'},\n",
      "             {u'Confidence': 52.66632843017578, u'Name': u'Road'},\n",
      "             {u'Confidence': 51.19955062866211, u'Name': u'Sedan'}],\n",
      " 'ResponseMetadata': {'HTTPHeaders': {'connection': 'keep-alive',\n",
      "                                      'content-length': '696',\n",
      "                                      'content-type': 'application/x-amz-json-1.1',\n",
      "                                      'date': 'Sat, 29 Jul 2017 20:49:41 GMT',\n",
      "                                      'x-amzn-requestid': '71256e73-749f-11e7-a61d-31bf04106fc9'},\n",
      "                      'HTTPStatusCode': 200,\n",
      "                      'RequestId': '71256e73-749f-11e7-a61d-31bf04106fc9',\n",
      "                      'RetryAttempts': 0}}\n"
     ]
    }
   ],
   "source": [
    "with open('roadkill.jpg', 'rb') as source_image:\n",
    "        source_bytes = source_image.read()\n",
    "        \n",
    "response = client.detect_labels(\n",
    "                   Image={ 'Bytes': source_bytes },\n",
    "    )\n",
    "\n",
    "pprint.pprint(response)"
   ]
  },
  {
   "cell_type": "code",
   "execution_count": 9,
   "metadata": {
    "collapsed": false
   },
   "outputs": [
    {
     "name": "stdout",
     "output_type": "stream",
     "text": [
      "{u'Labels': [{u'Confidence': 99.06260681152344, u'Name': u'Automobile'},\n",
      "             {u'Confidence': 99.06260681152344, u'Name': u'Car'},\n",
      "             {u'Confidence': 99.06260681152344, u'Name': u'Vehicle'},\n",
      "             {u'Confidence': 98.12258911132812, u'Name': u'Boat'},\n",
      "             {u'Confidence': 98.12258911132812, u'Name': u'Watercraft'},\n",
      "             {u'Confidence': 85.68062591552734, u'Name': u'Rubble'},\n",
      "             {u'Confidence': 56.600223541259766, u'Name': u'Dock'},\n",
      "             {u'Confidence': 56.600223541259766, u'Name': u'Landing'},\n",
      "             {u'Confidence': 56.600223541259766, u'Name': u'Pier'},\n",
      "             {u'Confidence': 52.49038314819336, u'Name': u'Sedan'},\n",
      "             {u'Confidence': 51.70204544067383, u'Name': u'Antique Car'},\n",
      "             {u'Confidence': 51.547752380371094, u'Name': u'Van'},\n",
      "             {u'Confidence': 50.942771911621094, u'Name': u'Suv'}],\n",
      " u'OrientationCorrection': u'ROTATE_0',\n",
      " 'ResponseMetadata': {'HTTPHeaders': {'connection': 'keep-alive',\n",
      "                                      'content-length': '688',\n",
      "                                      'content-type': 'application/x-amz-json-1.1',\n",
      "                                      'date': 'Sat, 29 Jul 2017 20:49:54 GMT',\n",
      "                                      'x-amzn-requestid': '78bfd7b7-749f-11e7-916e-65009e9d35a4'},\n",
      "                      'HTTPStatusCode': 200,\n",
      "                      'RequestId': '78bfd7b7-749f-11e7-916e-65009e9d35a4',\n",
      "                      'RetryAttempts': 0}}\n"
     ]
    }
   ],
   "source": [
    "with open('trashed.jpg', 'rb') as source_image:\n",
    "        source_bytes = source_image.read()\n",
    "        \n",
    "response = client.detect_labels(\n",
    "                   Image={ 'Bytes': source_bytes },\n",
    "    )\n",
    "\n",
    "pprint.pprint(response)"
   ]
  },
  {
   "cell_type": "code",
   "execution_count": 10,
   "metadata": {
    "collapsed": false
   },
   "outputs": [
    {
     "name": "stdout",
     "output_type": "stream",
     "text": [
      "{u'Labels': [{u'Confidence': 90.53662872314453, u'Name': u'Tomb'},\n",
      "             {u'Confidence': 61.4941291809082, u'Name': u'Automobile'},\n",
      "             {u'Confidence': 61.4941291809082, u'Name': u'Car'},\n",
      "             {u'Confidence': 61.4941291809082, u'Name': u'Vehicle'},\n",
      "             {u'Confidence': 60.266963958740234, u'Name': u'Flagstone'},\n",
      "             {u'Confidence': 54.89584732055664, u'Name': u'Asphalt'},\n",
      "             {u'Confidence': 54.89584732055664, u'Name': u'Tarmac'},\n",
      "             {u'Confidence': 53.81867218017578, u'Name': u'Alley'},\n",
      "             {u'Confidence': 53.81867218017578, u'Name': u'Alleyway'},\n",
      "             {u'Confidence': 53.81867218017578, u'Name': u'Road'},\n",
      "             {u'Confidence': 53.81867218017578, u'Name': u'Street'},\n",
      "             {u'Confidence': 53.81867218017578, u'Name': u'Town'},\n",
      "             {u'Confidence': 51.65686798095703, u'Name': u'Backyard'},\n",
      "             {u'Confidence': 51.65686798095703, u'Name': u'Yard'},\n",
      "             {u'Confidence': 50.66255187988281, u'Name': u'Suv'},\n",
      "             {u'Confidence': 50.624908447265625, u'Name': u'Crypt'}],\n",
      " 'ResponseMetadata': {'HTTPHeaders': {'connection': 'keep-alive',\n",
      "                                      'content-length': '792',\n",
      "                                      'content-type': 'application/x-amz-json-1.1',\n",
      "                                      'date': 'Sat, 29 Jul 2017 20:54:53 GMT',\n",
      "                                      'x-amzn-requestid': '2b1560b8-74a0-11e7-9f75-2dd76fbcaf77'},\n",
      "                      'HTTPStatusCode': 200,\n",
      "                      'RequestId': '2b1560b8-74a0-11e7-9f75-2dd76fbcaf77',\n",
      "                      'RetryAttempts': 0}}\n"
     ]
    }
   ],
   "source": [
    "with open('newyears.jpg', 'rb') as source_image:\n",
    "        source_bytes = source_image.read()\n",
    "        \n",
    "response = client.detect_labels(\n",
    "                   Image={ 'Bytes': source_bytes },\n",
    "    )\n",
    "\n",
    "pprint.pprint(response)"
   ]
  },
  {
   "cell_type": "code",
   "execution_count": null,
   "metadata": {
    "collapsed": true
   },
   "outputs": [],
   "source": []
  }
 ],
 "metadata": {
  "anaconda-cloud": {},
  "kernelspec": {
   "display_name": "Python [conda env:dsi]",
   "language": "python",
   "name": "conda-env-dsi-py"
  },
  "language_info": {
   "codemirror_mode": {
    "name": "ipython",
    "version": 2
   },
   "file_extension": ".py",
   "mimetype": "text/x-python",
   "name": "python",
   "nbconvert_exporter": "python",
   "pygments_lexer": "ipython2",
   "version": "2.7.13"
  }
 },
 "nbformat": 4,
 "nbformat_minor": 1
}
